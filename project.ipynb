{
 "cells": [
  {
   "cell_type": "markdown",
   "metadata": {},
   "source": [
    "# Predicting California’s Groundwater Levels Using Machine Learning for Sustainable Management"
   ]
  },
  {
   "cell_type": "code",
   "execution_count": 2,
   "metadata": {},
   "outputs": [],
   "source": [
    "import requests\n",
    "import pandas as pd\n",
    "import numpy as np\n",
    "import matplotlib.pyplot as plt\n",
    "import seaborn as sns\n",
    "from sklearn.model_selection import train_test_split, GridSearchCV\n",
    "from sklearn.preprocessing import StandardScaler, LabelEncoder\n",
    "from sklearn.ensemble import RandomForestRegressor\n",
    "from xgboost import XGBRegressor\n",
    "from sklearn.metrics import mean_absolute_error, mean_squared_error, r2_score\n",
    "import tensorflow as tf\n",
    "from tensorflow.keras.models import Sequential\n",
    "from tensorflow.keras.layers import LSTM, Dense, Dropout"
   ]
  },
  {
   "cell_type": "markdown",
   "metadata": {},
   "source": [
    "## Fetching the Groundwater Level Measurements via the CA Dept. of Water Resources API"
   ]
  },
  {
   "cell_type": "code",
   "execution_count": 3,
   "metadata": {},
   "outputs": [
    {
     "name": "stdout",
     "output_type": "stream",
     "text": [
      "\n",
      "Data Successfully Fetched!\n",
      "Total Records Retrieved: 50000\n",
      "\n",
      "Preview of Data:\n",
      "        _id _full_text           site_code            msmt_date  wlm_rpe  \\\n",
      "0  1413344       None  359714N1201027W001  2023-04-20T07:44:00  697.120   \n",
      "1  1383070       None  357878N1191173W001  1977-12-01T00:00:00  508.200   \n",
      "2  1383071       None  357878N1191173W001  1977-01-03T00:00:00  508.200   \n",
      "3  1383072       None  357878N1191173W001  1976-01-08T00:00:00  508.200   \n",
      "4  1383073       None  357878N1191173W001  1974-03-06T00:00:00  508.200   \n",
      "\n",
      "   wlm_gse      gwe  gse_gwe   wlm_qa_desc             wlm_qa_detail  \\\n",
      "0  695.120     None     None       Missing  Temporarily inaccessible   \n",
      "1  508.200  202.200  306.000          Good                      None   \n",
      "2  508.200  240.700  267.500          Good                      None   \n",
      "3  508.200  271.000  237.200  Questionable                     Other   \n",
      "4  508.200  227.200  281.000          Good                      None   \n",
      "\n",
      "  wlm_mthd_desc wlm_acc_desc                   wlm_org_name  \\\n",
      "0          None         None  Department of Water Resources   \n",
      "1       Unknown      Unknown  Department of Water Resources   \n",
      "2       Unknown      Unknown  Department of Water Resources   \n",
      "3       Unknown      Unknown  Department of Water Resources   \n",
      "4       Unknown      Unknown  Department of Water Resources   \n",
      "\n",
      "                     coop_org_name monitoring_program basin_code county_name  \\\n",
      "0    Department of Water Resources          VOLUNTARY   5-022.17      Fresno   \n",
      "1  United States Geological Survey          VOLUNTARY   5-022.14      Fresno   \n",
      "2  United States Geological Survey          VOLUNTARY   5-022.14      Fresno   \n",
      "3  United States Geological Survey          VOLUNTARY   5-022.14      Fresno   \n",
      "4  United States Geological Survey          VOLUNTARY   5-022.14      Fresno   \n",
      "\n",
      "  well_use        source                 msmt_cmt  \n",
      "0  Unknown  DWR_DISCRETE  No access through field  \n",
      "1  Unknown  DWR_DISCRETE                     None  \n",
      "2  Unknown  DWR_DISCRETE                     None  \n",
      "3  Unknown  DWR_DISCRETE                     None  \n",
      "4  Unknown  DWR_DISCRETE                     None  \n",
      "\n",
      "Columns in DataFrame:\n",
      " ['_id', '_full_text', 'site_code', 'msmt_date', 'wlm_rpe', 'wlm_gse', 'gwe', 'gse_gwe', 'wlm_qa_desc', 'wlm_qa_detail', 'wlm_mthd_desc', 'wlm_acc_desc', 'wlm_org_name', 'coop_org_name', 'monitoring_program', 'basin_code', 'county_name', 'well_use', 'source', 'msmt_cmt']\n",
      "Total Number of Rows in Dataset: 50000\n"
     ]
    }
   ],
   "source": [
    "# Fetch data from API\n",
    "def fetch_groundwater_data():\n",
    "    sql_query = \"SELECT * FROM \\\"231ba173-392a-4f62-91fb-07f4a90746d1\\\" WHERE county_name = 'Fresno'\"\n",
    "    url = f\"https://data.ca.gov/api/3/action/datastore_search_sql?sql={sql_query}\"\n",
    "\n",
    "    response = requests.get(url)\n",
    "    \n",
    "    # Check if request was successful\n",
    "    if response.status_code == 200:\n",
    "        data = response.json()\n",
    "        records = data['result']['records']\n",
    "        df = pd.DataFrame(records)\n",
    "        \n",
    "        # Print basic details\n",
    "        print(\"\\nData Successfully Fetched!\")\n",
    "        print(f\"Total Records Retrieved: {len(df)}\")\n",
    "        print(\"\\nPreview of Data:\\n\", df.head())  # Print first few rows\n",
    "        \n",
    "        return df\n",
    "    else:\n",
    "        print(\"Failed to fetch data. Status Code:\", response.status_code)\n",
    "        return None\n",
    "\n",
    "# Call function and print results\n",
    "df = fetch_groundwater_data()\n",
    "\n",
    "# Optional: Display full column names to understand the dataset better\n",
    "if df is not None:\n",
    "    print(\"\\nColumns in DataFrame:\\n\", df.columns.tolist())\n",
    "\n",
    "\n",
    "print(f\"Total Number of Rows in Dataset: {df.shape[0]}\")\n"
   ]
  },
  {
   "cell_type": "markdown",
   "metadata": {},
   "source": [
    "## Fetch and Focus on Fresno County data for better accuracy and less variability"
   ]
  },
  {
   "cell_type": "code",
   "execution_count": 4,
   "metadata": {},
   "outputs": [
    {
     "name": "stdout",
     "output_type": "stream",
     "text": [
      "\n",
      "Data Successfully Fetched!\n",
      "Total Records Retrieved: 50000\n",
      "\n",
      "Preview of Data:\n",
      "        _id _full_text           site_code            msmt_date  wlm_rpe  \\\n",
      "0  1423046       None  360219N1199616W001  1972-01-04T00:00:00  208.070   \n",
      "1  1383070       None  357878N1191173W001  1977-12-01T00:00:00  508.200   \n",
      "2  1383071       None  357878N1191173W001  1977-01-03T00:00:00  508.200   \n",
      "3  1383072       None  357878N1191173W001  1976-01-08T00:00:00  508.200   \n",
      "4  1383073       None  357878N1191173W001  1974-03-06T00:00:00  508.200   \n",
      "\n",
      "   wlm_gse      gwe  gse_gwe   wlm_qa_desc          wlm_qa_detail  \\\n",
      "0  208.070     None     None       Missing  Unable to locate well   \n",
      "1  508.200  202.200  306.000          Good                   None   \n",
      "2  508.200  240.700  267.500          Good                   None   \n",
      "3  508.200  271.000  237.200  Questionable                  Other   \n",
      "4  508.200  227.200  281.000          Good                   None   \n",
      "\n",
      "  wlm_mthd_desc wlm_acc_desc                   wlm_org_name  \\\n",
      "0          None         None  Department of Water Resources   \n",
      "1       Unknown      Unknown  Department of Water Resources   \n",
      "2       Unknown      Unknown  Department of Water Resources   \n",
      "3       Unknown      Unknown  Department of Water Resources   \n",
      "4       Unknown      Unknown  Department of Water Resources   \n",
      "\n",
      "                     coop_org_name monitoring_program basin_code county_name  \\\n",
      "0    Department of Water Resources          VOLUNTARY   5-022.12      Fresno   \n",
      "1  United States Geological Survey          VOLUNTARY   5-022.14      Fresno   \n",
      "2  United States Geological Survey          VOLUNTARY   5-022.14      Fresno   \n",
      "3  United States Geological Survey          VOLUNTARY   5-022.14      Fresno   \n",
      "4  United States Geological Survey          VOLUNTARY   5-022.14      Fresno   \n",
      "\n",
      "  well_use        source msmt_cmt  \n",
      "0  Unknown  DWR_DISCRETE     None  \n",
      "1  Unknown  DWR_DISCRETE     None  \n",
      "2  Unknown  DWR_DISCRETE     None  \n",
      "3  Unknown  DWR_DISCRETE     None  \n",
      "4  Unknown  DWR_DISCRETE     None  \n",
      "\\Fresno County data saved as 'fresno_groundwater.csv'\n"
     ]
    }
   ],
   "source": [
    "# Call function and get DataFrame\n",
    "df_fresno = fetch_groundwater_data()\n",
    "\n",
    "# Save to CSV (optional)\n",
    "if df_fresno is not None:\n",
    "    save_csv = True  # Set to False if you don't want to save\n",
    "    if save_csv:\n",
    "        df_fresno.to_csv(\"fresno_groundwater.csv\", index=False)\n",
    "        print(\"\\Fresno County data saved as 'fresno_groundwater.csv'\")"
   ]
  },
  {
   "cell_type": "markdown",
   "metadata": {},
   "source": [
    "## Missing Values"
   ]
  },
  {
   "cell_type": "code",
   "execution_count": null,
   "metadata": {},
   "outputs": [],
   "source": []
  },
  {
   "cell_type": "code",
   "execution_count": 5,
   "metadata": {},
   "outputs": [],
   "source": [
    "# Data Preprocessing\n",
    "def preprocess_data(df):\n",
    "    required_columns = ['measurement_date', 'site_code', 'gs_elev', 'rp_elev', 'wl_below_surface']\n",
    "    available_columns = df.columns.tolist()\n",
    "    missing_columns = [col for col in required_columns if col not in available_columns]\n",
    "    \n",
    "    if missing_columns:\n",
    "        print(f\"Missing columns: {missing_columns}\")\n",
    "        return pd.DataFrame()\n",
    "    \n",
    "    df = df[required_columns]\n",
    "    df.dropna(inplace=True)\n",
    "    df['measurement_date'] = pd.to_datetime(df['measurement_date'], errors='coerce')\n",
    "    df.dropna(subset=['measurement_date'], inplace=True)\n",
    "    df.sort_values(by=['measurement_date'], inplace=True)\n",
    "    \n",
    "    label_encoder = LabelEncoder()\n",
    "    df['site_code'] = label_encoder.fit_transform(df['site_code'])\n",
    "    return df\n"
   ]
  },
  {
   "cell_type": "code",
   "execution_count": 6,
   "metadata": {},
   "outputs": [
    {
     "name": "stdout",
     "output_type": "stream",
     "text": [
      "\n",
      "Data Successfully Fetched!\n",
      "Total Records Retrieved: 50000\n",
      "\n",
      "Preview of Data:\n",
      "        _id _full_text           site_code            msmt_date  wlm_rpe  \\\n",
      "0  1383070       None  357878N1191173W001  1977-12-01T00:00:00  508.200   \n",
      "1  1383071       None  357878N1191173W001  1977-01-03T00:00:00  508.200   \n",
      "2  1383072       None  357878N1191173W001  1976-01-08T00:00:00  508.200   \n",
      "3  1383073       None  357878N1191173W001  1974-03-06T00:00:00  508.200   \n",
      "4  1383074       None  357878N1191173W001  1972-02-07T00:00:00  508.200   \n",
      "\n",
      "   wlm_gse      gwe  gse_gwe   wlm_qa_desc wlm_qa_detail wlm_mthd_desc  \\\n",
      "0  508.200  202.200  306.000          Good          None       Unknown   \n",
      "1  508.200  240.700  267.500          Good          None       Unknown   \n",
      "2  508.200  271.000  237.200  Questionable         Other       Unknown   \n",
      "3  508.200  227.200  281.000          Good          None       Unknown   \n",
      "4  508.200  216.500  291.700          Good          None       Unknown   \n",
      "\n",
      "  wlm_acc_desc                   wlm_org_name  \\\n",
      "0      Unknown  Department of Water Resources   \n",
      "1      Unknown  Department of Water Resources   \n",
      "2      Unknown  Department of Water Resources   \n",
      "3      Unknown  Department of Water Resources   \n",
      "4      Unknown  Department of Water Resources   \n",
      "\n",
      "                     coop_org_name monitoring_program basin_code county_name  \\\n",
      "0  United States Geological Survey          VOLUNTARY   5-022.14      Fresno   \n",
      "1  United States Geological Survey          VOLUNTARY   5-022.14      Fresno   \n",
      "2  United States Geological Survey          VOLUNTARY   5-022.14      Fresno   \n",
      "3  United States Geological Survey          VOLUNTARY   5-022.14      Fresno   \n",
      "4  United States Geological Survey          VOLUNTARY   5-022.14      Fresno   \n",
      "\n",
      "  well_use        source msmt_cmt  \n",
      "0  Unknown  DWR_DISCRETE     None  \n",
      "1  Unknown  DWR_DISCRETE     None  \n",
      "2  Unknown  DWR_DISCRETE     None  \n",
      "3  Unknown  DWR_DISCRETE     None  \n",
      "4  Unknown  DWR_DISCRETE     None  \n",
      "Missing columns: ['measurement_date', 'gs_elev', 'rp_elev', 'wl_below_surface']\n",
      "Data preprocessing failed. No further steps executed.\n"
     ]
    }
   ],
   "source": [
    "# Feature Engineering\n",
    "def feature_engineering(df):\n",
    "    df['year'] = df['measurement_date'].dt.year\n",
    "    df['month'] = df['measurement_date'].dt.month\n",
    "    df['day'] = df['measurement_date'].dt.day\n",
    "    df.drop(columns=['measurement_date'], inplace=True)\n",
    "    return df\n",
    "\n",
    "raw_df = fetch_groundwater_data()\n",
    "if not raw_df.empty:\n",
    "    processed_df = preprocess_data(raw_df)\n",
    "    if not processed_df.empty:\n",
    "        processed_df = feature_engineering(processed_df)\n",
    "        processed_df.to_csv(\"groundwater_data.csv\", index=False)\n",
    "    else:\n",
    "        print(\"Data preprocessing failed. No further steps executed.\")\n",
    "else:\n",
    "    print(\"Data fetching failed. No further steps executed.\")"
   ]
  },
  {
   "cell_type": "code",
   "execution_count": 7,
   "metadata": {},
   "outputs": [
    {
     "ename": "KeyError",
     "evalue": "\"['wl_below_surface'] not found in axis\"",
     "output_type": "error",
     "traceback": [
      "\u001b[0;31m---------------------------------------------------------------------------\u001b[0m",
      "\u001b[0;31mKeyError\u001b[0m                                  Traceback (most recent call last)",
      "Cell \u001b[0;32mIn[7], line 2\u001b[0m\n\u001b[1;32m      1\u001b[0m \u001b[38;5;66;03m# Splitting Data\u001b[39;00m\n\u001b[0;32m----> 2\u001b[0m X \u001b[38;5;241m=\u001b[39m \u001b[43mprocessed_df\u001b[49m\u001b[38;5;241;43m.\u001b[39;49m\u001b[43mdrop\u001b[49m\u001b[43m(\u001b[49m\u001b[43mcolumns\u001b[49m\u001b[38;5;241;43m=\u001b[39;49m\u001b[43m[\u001b[49m\u001b[38;5;124;43m'\u001b[39;49m\u001b[38;5;124;43mwl_below_surface\u001b[39;49m\u001b[38;5;124;43m'\u001b[39;49m\u001b[43m]\u001b[49m\u001b[43m)\u001b[49m\n\u001b[1;32m      3\u001b[0m y \u001b[38;5;241m=\u001b[39m processed_df[\u001b[38;5;124m'\u001b[39m\u001b[38;5;124mwl_below_surface\u001b[39m\u001b[38;5;124m'\u001b[39m]\n\u001b[1;32m      4\u001b[0m X_train, X_test, y_train, y_test \u001b[38;5;241m=\u001b[39m train_test_split(X, y, test_size\u001b[38;5;241m=\u001b[39m\u001b[38;5;241m0.2\u001b[39m, random_state\u001b[38;5;241m=\u001b[39m\u001b[38;5;241m42\u001b[39m)\n",
      "File \u001b[0;32m~/.pyenv/versions/3.8.19/lib/python3.8/site-packages/pandas/core/frame.py:5258\u001b[0m, in \u001b[0;36mDataFrame.drop\u001b[0;34m(self, labels, axis, index, columns, level, inplace, errors)\u001b[0m\n\u001b[1;32m   5110\u001b[0m \u001b[38;5;28;01mdef\u001b[39;00m \u001b[38;5;21mdrop\u001b[39m(\n\u001b[1;32m   5111\u001b[0m     \u001b[38;5;28mself\u001b[39m,\n\u001b[1;32m   5112\u001b[0m     labels: IndexLabel \u001b[38;5;241m=\u001b[39m \u001b[38;5;28;01mNone\u001b[39;00m,\n\u001b[0;32m   (...)\u001b[0m\n\u001b[1;32m   5119\u001b[0m     errors: IgnoreRaise \u001b[38;5;241m=\u001b[39m \u001b[38;5;124m\"\u001b[39m\u001b[38;5;124mraise\u001b[39m\u001b[38;5;124m\"\u001b[39m,\n\u001b[1;32m   5120\u001b[0m ) \u001b[38;5;241m-\u001b[39m\u001b[38;5;241m>\u001b[39m DataFrame \u001b[38;5;241m|\u001b[39m \u001b[38;5;28;01mNone\u001b[39;00m:\n\u001b[1;32m   5121\u001b[0m \u001b[38;5;250m    \u001b[39m\u001b[38;5;124;03m\"\"\"\u001b[39;00m\n\u001b[1;32m   5122\u001b[0m \u001b[38;5;124;03m    Drop specified labels from rows or columns.\u001b[39;00m\n\u001b[1;32m   5123\u001b[0m \n\u001b[0;32m   (...)\u001b[0m\n\u001b[1;32m   5256\u001b[0m \u001b[38;5;124;03m            weight  1.0     0.8\u001b[39;00m\n\u001b[1;32m   5257\u001b[0m \u001b[38;5;124;03m    \"\"\"\u001b[39;00m\n\u001b[0;32m-> 5258\u001b[0m     \u001b[38;5;28;01mreturn\u001b[39;00m \u001b[38;5;28;43msuper\u001b[39;49m\u001b[43m(\u001b[49m\u001b[43m)\u001b[49m\u001b[38;5;241;43m.\u001b[39;49m\u001b[43mdrop\u001b[49m\u001b[43m(\u001b[49m\n\u001b[1;32m   5259\u001b[0m \u001b[43m        \u001b[49m\u001b[43mlabels\u001b[49m\u001b[38;5;241;43m=\u001b[39;49m\u001b[43mlabels\u001b[49m\u001b[43m,\u001b[49m\n\u001b[1;32m   5260\u001b[0m \u001b[43m        \u001b[49m\u001b[43maxis\u001b[49m\u001b[38;5;241;43m=\u001b[39;49m\u001b[43maxis\u001b[49m\u001b[43m,\u001b[49m\n\u001b[1;32m   5261\u001b[0m \u001b[43m        \u001b[49m\u001b[43mindex\u001b[49m\u001b[38;5;241;43m=\u001b[39;49m\u001b[43mindex\u001b[49m\u001b[43m,\u001b[49m\n\u001b[1;32m   5262\u001b[0m \u001b[43m        \u001b[49m\u001b[43mcolumns\u001b[49m\u001b[38;5;241;43m=\u001b[39;49m\u001b[43mcolumns\u001b[49m\u001b[43m,\u001b[49m\n\u001b[1;32m   5263\u001b[0m \u001b[43m        \u001b[49m\u001b[43mlevel\u001b[49m\u001b[38;5;241;43m=\u001b[39;49m\u001b[43mlevel\u001b[49m\u001b[43m,\u001b[49m\n\u001b[1;32m   5264\u001b[0m \u001b[43m        \u001b[49m\u001b[43minplace\u001b[49m\u001b[38;5;241;43m=\u001b[39;49m\u001b[43minplace\u001b[49m\u001b[43m,\u001b[49m\n\u001b[1;32m   5265\u001b[0m \u001b[43m        \u001b[49m\u001b[43merrors\u001b[49m\u001b[38;5;241;43m=\u001b[39;49m\u001b[43merrors\u001b[49m\u001b[43m,\u001b[49m\n\u001b[1;32m   5266\u001b[0m \u001b[43m    \u001b[49m\u001b[43m)\u001b[49m\n",
      "File \u001b[0;32m~/.pyenv/versions/3.8.19/lib/python3.8/site-packages/pandas/core/generic.py:4549\u001b[0m, in \u001b[0;36mNDFrame.drop\u001b[0;34m(self, labels, axis, index, columns, level, inplace, errors)\u001b[0m\n\u001b[1;32m   4547\u001b[0m \u001b[38;5;28;01mfor\u001b[39;00m axis, labels \u001b[38;5;129;01min\u001b[39;00m axes\u001b[38;5;241m.\u001b[39mitems():\n\u001b[1;32m   4548\u001b[0m     \u001b[38;5;28;01mif\u001b[39;00m labels \u001b[38;5;129;01mis\u001b[39;00m \u001b[38;5;129;01mnot\u001b[39;00m \u001b[38;5;28;01mNone\u001b[39;00m:\n\u001b[0;32m-> 4549\u001b[0m         obj \u001b[38;5;241m=\u001b[39m \u001b[43mobj\u001b[49m\u001b[38;5;241;43m.\u001b[39;49m\u001b[43m_drop_axis\u001b[49m\u001b[43m(\u001b[49m\u001b[43mlabels\u001b[49m\u001b[43m,\u001b[49m\u001b[43m \u001b[49m\u001b[43maxis\u001b[49m\u001b[43m,\u001b[49m\u001b[43m \u001b[49m\u001b[43mlevel\u001b[49m\u001b[38;5;241;43m=\u001b[39;49m\u001b[43mlevel\u001b[49m\u001b[43m,\u001b[49m\u001b[43m \u001b[49m\u001b[43merrors\u001b[49m\u001b[38;5;241;43m=\u001b[39;49m\u001b[43merrors\u001b[49m\u001b[43m)\u001b[49m\n\u001b[1;32m   4551\u001b[0m \u001b[38;5;28;01mif\u001b[39;00m inplace:\n\u001b[1;32m   4552\u001b[0m     \u001b[38;5;28mself\u001b[39m\u001b[38;5;241m.\u001b[39m_update_inplace(obj)\n",
      "File \u001b[0;32m~/.pyenv/versions/3.8.19/lib/python3.8/site-packages/pandas/core/generic.py:4591\u001b[0m, in \u001b[0;36mNDFrame._drop_axis\u001b[0;34m(self, labels, axis, level, errors, only_slice)\u001b[0m\n\u001b[1;32m   4589\u001b[0m         new_axis \u001b[38;5;241m=\u001b[39m axis\u001b[38;5;241m.\u001b[39mdrop(labels, level\u001b[38;5;241m=\u001b[39mlevel, errors\u001b[38;5;241m=\u001b[39merrors)\n\u001b[1;32m   4590\u001b[0m     \u001b[38;5;28;01melse\u001b[39;00m:\n\u001b[0;32m-> 4591\u001b[0m         new_axis \u001b[38;5;241m=\u001b[39m \u001b[43maxis\u001b[49m\u001b[38;5;241;43m.\u001b[39;49m\u001b[43mdrop\u001b[49m\u001b[43m(\u001b[49m\u001b[43mlabels\u001b[49m\u001b[43m,\u001b[49m\u001b[43m \u001b[49m\u001b[43merrors\u001b[49m\u001b[38;5;241;43m=\u001b[39;49m\u001b[43merrors\u001b[49m\u001b[43m)\u001b[49m\n\u001b[1;32m   4592\u001b[0m     indexer \u001b[38;5;241m=\u001b[39m axis\u001b[38;5;241m.\u001b[39mget_indexer(new_axis)\n\u001b[1;32m   4594\u001b[0m \u001b[38;5;66;03m# Case for non-unique axis\u001b[39;00m\n\u001b[1;32m   4595\u001b[0m \u001b[38;5;28;01melse\u001b[39;00m:\n",
      "File \u001b[0;32m~/.pyenv/versions/3.8.19/lib/python3.8/site-packages/pandas/core/indexes/base.py:6699\u001b[0m, in \u001b[0;36mIndex.drop\u001b[0;34m(self, labels, errors)\u001b[0m\n\u001b[1;32m   6697\u001b[0m \u001b[38;5;28;01mif\u001b[39;00m mask\u001b[38;5;241m.\u001b[39many():\n\u001b[1;32m   6698\u001b[0m     \u001b[38;5;28;01mif\u001b[39;00m errors \u001b[38;5;241m!=\u001b[39m \u001b[38;5;124m\"\u001b[39m\u001b[38;5;124mignore\u001b[39m\u001b[38;5;124m\"\u001b[39m:\n\u001b[0;32m-> 6699\u001b[0m         \u001b[38;5;28;01mraise\u001b[39;00m \u001b[38;5;167;01mKeyError\u001b[39;00m(\u001b[38;5;124mf\u001b[39m\u001b[38;5;124m\"\u001b[39m\u001b[38;5;132;01m{\u001b[39;00m\u001b[38;5;28mlist\u001b[39m(labels[mask])\u001b[38;5;132;01m}\u001b[39;00m\u001b[38;5;124m not found in axis\u001b[39m\u001b[38;5;124m\"\u001b[39m)\n\u001b[1;32m   6700\u001b[0m     indexer \u001b[38;5;241m=\u001b[39m indexer[\u001b[38;5;241m~\u001b[39mmask]\n\u001b[1;32m   6701\u001b[0m \u001b[38;5;28;01mreturn\u001b[39;00m \u001b[38;5;28mself\u001b[39m\u001b[38;5;241m.\u001b[39mdelete(indexer)\n",
      "\u001b[0;31mKeyError\u001b[0m: \"['wl_below_surface'] not found in axis\""
     ]
    }
   ],
   "source": [
    "# Splitting Data\n",
    "X = processed_df.drop(columns=['wl_below_surface'])\n",
    "y = processed_df['wl_below_surface']\n",
    "X_train, X_test, y_train, y_test = train_test_split(X, y, test_size=0.2, random_state=42)\n",
    "scaler = StandardScaler()\n",
    "X_train = scaler.fit_transform(X_train)\n",
    "X_test = scaler.transform(X_test)\n"
   ]
  }
 ],
 "metadata": {
  "kernelspec": {
   "display_name": "3.8.19",
   "language": "python",
   "name": "python3"
  },
  "language_info": {
   "codemirror_mode": {
    "name": "ipython",
    "version": 3
   },
   "file_extension": ".py",
   "mimetype": "text/x-python",
   "name": "python",
   "nbconvert_exporter": "python",
   "pygments_lexer": "ipython3",
   "version": "3.8.19"
  }
 },
 "nbformat": 4,
 "nbformat_minor": 2
}
